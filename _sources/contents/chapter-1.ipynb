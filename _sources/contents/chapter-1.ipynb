{
 "cells": [
  {
   "cell_type": "markdown",
   "id": "f58008d2",
   "metadata": {},
   "source": [
    "# Bab 1 Memulai pemrograman dengan python\n",
    "\n",
    "Ini adalah bab awal untuk mengenalkan data analisis dengan menggunakan Python.\n",
    "Ini chapter 1"
   ]
  },
  {
   "cell_type": "markdown",
   "id": "fdb7671b",
   "metadata": {},
   "source": [
    "## SubBab 1 Tipe Data dalam python"
   ]
  },
  {
   "cell_type": "code",
   "execution_count": null,
   "id": "e6c92639",
   "metadata": {},
   "outputs": [],
   "source": []
  }
 ],
 "metadata": {
  "kernelspec": {
   "display_name": "Python 3 (ipykernel)",
   "language": "python",
   "name": "python3"
  },
  "language_info": {
   "codemirror_mode": {
    "name": "ipython",
    "version": 3
   },
   "file_extension": ".py",
   "mimetype": "text/x-python",
   "name": "python",
   "nbconvert_exporter": "python",
   "pygments_lexer": "ipython3",
   "version": "3.8.13"
  }
 },
 "nbformat": 4,
 "nbformat_minor": 5
}
