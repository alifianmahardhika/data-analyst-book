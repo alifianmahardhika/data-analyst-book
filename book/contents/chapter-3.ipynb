{
 "cells": [
  {
   "cell_type": "markdown",
   "id": "59d3c9cc",
   "metadata": {},
   "source": [
    "# Bab 3 Data collection and data cleaning"
   ]
  },
  {
   "cell_type": "code",
   "execution_count": null,
   "id": "48bfa3b0",
   "metadata": {},
   "outputs": [],
   "source": [
    "test "
   ]
  }
 ],
 "metadata": {
  "kernelspec": {
   "display_name": "Python 3 (ipykernel)",
   "language": "python",
   "name": "python3"
  },
  "language_info": {
   "codemirror_mode": {
    "name": "ipython",
    "version": 3
   },
   "file_extension": ".py",
   "mimetype": "text/x-python",
   "name": "python",
   "nbconvert_exporter": "python",
   "pygments_lexer": "ipython3",
   "version": "3.9.10"
  }
 },
 "nbformat": 4,
 "nbformat_minor": 5
}
